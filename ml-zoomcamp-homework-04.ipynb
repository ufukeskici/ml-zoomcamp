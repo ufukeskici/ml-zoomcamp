{
 "cells": [
  {
   "cell_type": "code",
   "execution_count": 41,
   "id": "b0c6a2a9",
   "metadata": {},
   "outputs": [],
   "source": [
    "import pandas as pd\n",
    "import numpy as np\n",
    "import matplotlib.pyplot as plt\n",
    "import seaborn as sns\n",
    "\n",
    "from sklearn.model_selection import train_test_split\n",
    "from sklearn.metrics import mutual_info_score\n",
    "from sklearn.feature_extraction import DictVectorizer\n",
    "from sklearn.linear_model import LogisticRegression\n",
    "from sklearn.metrics import accuracy_score\n",
    "from sklearn.linear_model import Ridge\n",
    "from sklearn.metrics import mean_squared_error\n",
    "from sklearn.metrics import roc_auc_score\n",
    "from sklearn.metrics import roc_curve\n",
    "from sklearn.feature_extraction import DictVectorizer\n",
    "from sklearn.model_selection import KFold\n",
    "\n",
    "import warnings\n",
    "warnings.filterwarnings(\"ignore\")"
   ]
  },
  {
   "cell_type": "code",
   "execution_count": 13,
   "id": "efc414e8",
   "metadata": {},
   "outputs": [],
   "source": [
    "data_url ='https://raw.githubusercontent.com/alexeygrigorev/mlbookcamp-code/master/chapter-06-trees/CreditScoring.csv'"
   ]
  },
  {
   "cell_type": "markdown",
   "id": "5a0e7774",
   "metadata": {},
   "source": [
    "### Preparation"
   ]
  },
  {
   "cell_type": "code",
   "execution_count": 19,
   "id": "7f464c7d",
   "metadata": {},
   "outputs": [],
   "source": [
    "df = pd.read_csv(data_url)\n",
    "df.columns = df.columns.str.lower()"
   ]
  },
  {
   "cell_type": "markdown",
   "id": "2934f55f",
   "metadata": {},
   "source": [
    "Some of the features are encoded as numbers. Use the following code to de-code them:"
   ]
  },
  {
   "cell_type": "code",
   "execution_count": 20,
   "id": "d9f8f78c",
   "metadata": {},
   "outputs": [],
   "source": [
    "status_values = {\n",
    "    1: 'ok',\n",
    "    2: 'default',\n",
    "    0: 'unk'\n",
    "}\n",
    "\n",
    "df.status = df.status.map(status_values)\n",
    "\n",
    "\n",
    "home_values = {\n",
    "    1: 'rent',\n",
    "    2: 'owner',\n",
    "    3: 'private',\n",
    "    4: 'ignore',\n",
    "    5: 'parents',\n",
    "    6: 'other',\n",
    "    0: 'unk'\n",
    "}\n",
    "\n",
    "df.home = df.home.map(home_values)\n",
    "\n",
    "marital_values = {\n",
    "    1: 'single',\n",
    "    2: 'married',\n",
    "    3: 'widow',\n",
    "    4: 'separated',\n",
    "    5: 'divorced',\n",
    "    0: 'unk'\n",
    "}\n",
    "\n",
    "df.marital = df.marital.map(marital_values)\n",
    "\n",
    "records_values = {\n",
    "    1: 'no',\n",
    "    2: 'yes',\n",
    "    0: 'unk'\n",
    "}\n",
    "\n",
    "df.records = df.records.map(records_values)\n",
    "\n",
    "job_values = {\n",
    "    1: 'fixed',\n",
    "    2: 'partime',\n",
    "    3: 'freelance',\n",
    "    4: 'others',\n",
    "    0: 'unk'\n",
    "}\n",
    "\n",
    "df.job = df.job.map(job_values)"
   ]
  },
  {
   "cell_type": "markdown",
   "id": "d25d9fc0",
   "metadata": {},
   "source": [
    "Prepare the numerical variables:"
   ]
  },
  {
   "cell_type": "code",
   "execution_count": 21,
   "id": "01485c3b",
   "metadata": {},
   "outputs": [],
   "source": [
    "for c in ['income', 'assets', 'debt']:\n",
    "    df[c] = df[c].replace(to_replace=99999999, value=0)"
   ]
  },
  {
   "cell_type": "markdown",
   "id": "4fff87cc",
   "metadata": {},
   "source": [
    "Remove clients with unknown default status."
   ]
  },
  {
   "cell_type": "code",
   "execution_count": 22,
   "id": "d2fb72c7",
   "metadata": {},
   "outputs": [],
   "source": [
    "df = df[df.status != 'unk'].reset_index(drop=True)"
   ]
  },
  {
   "cell_type": "markdown",
   "id": "7b3c0afe",
   "metadata": {},
   "source": [
    "Create the target variable"
   ]
  },
  {
   "cell_type": "code",
   "execution_count": 23,
   "id": "d9691126",
   "metadata": {},
   "outputs": [],
   "source": [
    "df['default'] = (df.status == 'default').astype(int)\n",
    "del df['status']"
   ]
  },
  {
   "cell_type": "markdown",
   "id": "0a06e2fe",
   "metadata": {},
   "source": [
    "### Your Code"
   ]
  },
  {
   "cell_type": "markdown",
   "id": "90a0e12f",
   "metadata": {},
   "source": [
    "What are the categorical variables? What are the numerical?"
   ]
  },
  {
   "cell_type": "code",
   "execution_count": 24,
   "id": "592162ea",
   "metadata": {},
   "outputs": [],
   "source": [
    "numerical = ['seniority', 'time', 'age', 'expenses', 'income',\n",
    "             'assets', 'debt', 'price']\n",
    "categorical = ['home', 'marital', 'records', 'job']"
   ]
  },
  {
   "cell_type": "markdown",
   "id": "084a95a2",
   "metadata": {},
   "source": [
    "Split the data into 3 parts: train/validation/test with 60%/20%/20% distribution. Use `train_test_split` funciton for that with `random_state=1`"
   ]
  },
  {
   "cell_type": "code",
   "execution_count": 25,
   "id": "b9de68f4",
   "metadata": {},
   "outputs": [],
   "source": [
    "df_full_train, df_test = train_test_split(df, test_size=0.2, random_state=1)\n",
    "df_train, df_val = \\\n",
    "        train_test_split(df_full_train, test_size=0.25, random_state=1)\n",
    "\n",
    "df_train = df_train.reset_index(drop=True)\n",
    "df_val = df_val.reset_index(drop=True)\n",
    "df_test = df_test.reset_index(drop=True)\n",
    "\n",
    "y_train = df_train.default.values\n",
    "y_val = df_val.default.values\n",
    "y_test = df_test.default.values\n",
    "\n",
    "del df_train['default']\n",
    "del df_val['default']\n",
    "del df_test['default']"
   ]
  },
  {
   "cell_type": "markdown",
   "id": "bf23d5d1",
   "metadata": {},
   "source": [
    "### Question 1"
   ]
  },
  {
   "cell_type": "markdown",
   "id": "d494d21e",
   "metadata": {},
   "source": [
    "ROC AUC could also be used to evaluate feature importance of numerical variables.\n",
    "\n",
    "Let's do that\n",
    "\n",
    "* For each numerical variable, use it as score and compute AUC with the \"default\" variable\n",
    "* Use the training dataset for that\n",
    "\n",
    "If your AUC is < 0.5, invert this variable by putting \"-\" in front\n",
    "\n",
    "(e.g. `-df_train['expenses'] `)\n",
    "\n",
    "AUC can go below 0.5 if the variable is negatively correlated with the target varialble. You can change the direction of the correlation by negating this variable - then negative correlation becomes positive."
   ]
  },
  {
   "cell_type": "code",
   "execution_count": 27,
   "id": "84e4dbf4",
   "metadata": {},
   "outputs": [
    {
     "name": "stdout",
     "output_type": "stream",
     "text": [
      "seniority, 0.709\n",
      "     time, 0.561\n",
      "      age, 0.573\n",
      " expenses, 0.501\n",
      "   income, 0.682\n",
      "   assets, 0.649\n",
      "     debt, 0.505\n",
      "    price, 0.504\n"
     ]
    }
   ],
   "source": [
    "for c in numerical:\n",
    "    auc = roc_auc_score(y_train, df_train[c])\n",
    "    if auc < 0.5:\n",
    "        auc = roc_auc_score(y_train, -df_train[c])\n",
    "    print('%9s, %.3f' % (c, auc))"
   ]
  },
  {
   "cell_type": "markdown",
   "id": "bc86a766",
   "metadata": {},
   "source": [
    "Which numerical variable (among the following 4) has the highest AUC?"
   ]
  },
  {
   "cell_type": "markdown",
   "id": "6baf6f7b",
   "metadata": {},
   "source": [
    "`seniority` has the highest AUC."
   ]
  },
  {
   "cell_type": "code",
   "execution_count": 11,
   "id": "71736f11",
   "metadata": {},
   "outputs": [
    {
     "name": "stdout",
     "output_type": "stream",
     "text": [
      "seniority, 0.709\n",
      "     time, 0.561\n",
      "      age, 0.573\n",
      " expenses, 0.501\n",
      "   income, 0.682\n",
      "   assets, 0.649\n",
      "     debt, 0.505\n",
      "    price, 0.504\n"
     ]
    }
   ],
   "source": [
    "numerical = ['seniority', 'time', 'age', 'expenses', 'income',\n",
    "             'assets', 'debt', 'price']\n",
    "             \n",
    "for c in numerical:\n",
    "    auc = roc_auc_score(y_train, df_train[c])\n",
    "    if auc < 0.5:\n",
    "        auc = roc_auc_score(y_train, -df_train[c])\n",
    "    print('%9s, %.3f' % (c, auc))"
   ]
  },
  {
   "cell_type": "markdown",
   "id": "584fe5ea",
   "metadata": {},
   "source": [
    "### Training the model"
   ]
  },
  {
   "cell_type": "markdown",
   "id": "13c5dcc7",
   "metadata": {},
   "source": [
    "From now on, use these columns only:\n",
    "\n",
    "> ['seniority', 'income', 'assets', 'records', 'job', 'home']\n",
    "\n",
    "Apply one-hot-encoding using `DictVectorizer` and train the logistic regression with these parameters:\n",
    "\n",
    "> LogisticRegression(solver='liblinear', C=1.0, max_iter=1000)"
   ]
  },
  {
   "cell_type": "code",
   "execution_count": 29,
   "id": "7c52c5ad",
   "metadata": {},
   "outputs": [],
   "source": [
    "columns = ['seniority', 'income', 'assets', 'records', 'job', 'home']\n",
    "\n",
    "train_dicts = df_train[columns].to_dict(orient='records')\n",
    "dv = DictVectorizer(sparse=False)\n",
    "X_train = dv.fit_transform(train_dicts)\n",
    "\n",
    "model = LogisticRegression(solver='liblinear', C=1.0, max_iter=1000)\n",
    "model.fit(X_train, y_train)\n",
    "\n",
    "val_dicts = df_val[columns].to_dict(orient='records')\n",
    "X_val = dv.transform(val_dicts)\n",
    "\n",
    "y_pred = model.predict_proba(X_val)[:, 1]"
   ]
  },
  {
   "cell_type": "markdown",
   "id": "0292f6fe",
   "metadata": {},
   "source": [
    "### Question 2"
   ]
  },
  {
   "cell_type": "markdown",
   "id": "e926a6be",
   "metadata": {},
   "source": [
    "What's the AUC of this model on the validation dataset? (round to 3 digits)"
   ]
  },
  {
   "cell_type": "code",
   "execution_count": 31,
   "id": "81464138",
   "metadata": {},
   "outputs": [
    {
     "data": {
      "text/plain": [
       "0.811"
      ]
     },
     "execution_count": 31,
     "metadata": {},
     "output_type": "execute_result"
    }
   ],
   "source": [
    "round(roc_auc_score(y_val, y_pred), 3)"
   ]
  },
  {
   "cell_type": "markdown",
   "id": "bf64f4a0",
   "metadata": {},
   "source": [
    "### Question 3"
   ]
  },
  {
   "cell_type": "markdown",
   "id": "27fa7ab1",
   "metadata": {},
   "source": [
    "Now let's compute precision and recall for our model.\n",
    "\n",
    "* Evaluate the model on all thresholds from 0.0 to 1.0 with step 0.01\n",
    "* For each threshold, compute precision and recall\n",
    "* Plot them"
   ]
  },
  {
   "cell_type": "code",
   "execution_count": 32,
   "id": "14bd2d6a",
   "metadata": {},
   "outputs": [],
   "source": [
    "def confusion_matrix_dataframe(y_val, y_pred):\n",
    "    scores = []\n",
    "\n",
    "    thresholds = np.linspace(0, 1, 101)\n",
    "\n",
    "    for t in thresholds:\n",
    "        actual_positive = (y_val == 1)\n",
    "        actual_negative = (y_val == 0)\n",
    "\n",
    "        predict_positive = (y_pred >= t)\n",
    "        predict_negative = (y_pred < t)\n",
    "\n",
    "        tp = (predict_positive & actual_positive).sum()\n",
    "        tn = (predict_negative & actual_negative).sum()\n",
    "\n",
    "        fp = (predict_positive & actual_negative).sum()\n",
    "        fn = (predict_negative & actual_positive).sum()\n",
    "\n",
    "        scores.append((t, tp, fp, fn, tn))\n",
    "\n",
    "    columns = ['threshold', 'tp', 'fp', 'fn', 'tn']\n",
    "    df_scores = pd.DataFrame(scores, columns=columns)\n",
    "    \n",
    "    return df_scores"
   ]
  },
  {
   "cell_type": "code",
   "execution_count": 33,
   "id": "fdd5836b",
   "metadata": {},
   "outputs": [],
   "source": [
    "df_scores = confusion_matrix_dataframe(y_val, y_pred)"
   ]
  },
  {
   "cell_type": "code",
   "execution_count": 34,
   "id": "0abe4b55",
   "metadata": {},
   "outputs": [
    {
     "data": {
      "text/html": [
       "<div>\n",
       "<style scoped>\n",
       "    .dataframe tbody tr th:only-of-type {\n",
       "        vertical-align: middle;\n",
       "    }\n",
       "\n",
       "    .dataframe tbody tr th {\n",
       "        vertical-align: top;\n",
       "    }\n",
       "\n",
       "    .dataframe thead th {\n",
       "        text-align: right;\n",
       "    }\n",
       "</style>\n",
       "<table border=\"1\" class=\"dataframe\">\n",
       "  <thead>\n",
       "    <tr style=\"text-align: right;\">\n",
       "      <th></th>\n",
       "      <th>threshold</th>\n",
       "      <th>tp</th>\n",
       "      <th>fp</th>\n",
       "      <th>fn</th>\n",
       "      <th>tn</th>\n",
       "    </tr>\n",
       "  </thead>\n",
       "  <tbody>\n",
       "    <tr>\n",
       "      <th>0</th>\n",
       "      <td>0.0</td>\n",
       "      <td>246</td>\n",
       "      <td>645</td>\n",
       "      <td>0</td>\n",
       "      <td>0</td>\n",
       "    </tr>\n",
       "    <tr>\n",
       "      <th>10</th>\n",
       "      <td>0.1</td>\n",
       "      <td>235</td>\n",
       "      <td>445</td>\n",
       "      <td>11</td>\n",
       "      <td>200</td>\n",
       "    </tr>\n",
       "    <tr>\n",
       "      <th>20</th>\n",
       "      <td>0.2</td>\n",
       "      <td>216</td>\n",
       "      <td>278</td>\n",
       "      <td>30</td>\n",
       "      <td>367</td>\n",
       "    </tr>\n",
       "    <tr>\n",
       "      <th>30</th>\n",
       "      <td>0.3</td>\n",
       "      <td>187</td>\n",
       "      <td>172</td>\n",
       "      <td>59</td>\n",
       "      <td>473</td>\n",
       "    </tr>\n",
       "    <tr>\n",
       "      <th>40</th>\n",
       "      <td>0.4</td>\n",
       "      <td>148</td>\n",
       "      <td>108</td>\n",
       "      <td>98</td>\n",
       "      <td>537</td>\n",
       "    </tr>\n",
       "    <tr>\n",
       "      <th>50</th>\n",
       "      <td>0.5</td>\n",
       "      <td>112</td>\n",
       "      <td>64</td>\n",
       "      <td>134</td>\n",
       "      <td>581</td>\n",
       "    </tr>\n",
       "    <tr>\n",
       "      <th>60</th>\n",
       "      <td>0.6</td>\n",
       "      <td>78</td>\n",
       "      <td>38</td>\n",
       "      <td>168</td>\n",
       "      <td>607</td>\n",
       "    </tr>\n",
       "    <tr>\n",
       "      <th>70</th>\n",
       "      <td>0.7</td>\n",
       "      <td>43</td>\n",
       "      <td>15</td>\n",
       "      <td>203</td>\n",
       "      <td>630</td>\n",
       "    </tr>\n",
       "    <tr>\n",
       "      <th>80</th>\n",
       "      <td>0.8</td>\n",
       "      <td>22</td>\n",
       "      <td>6</td>\n",
       "      <td>224</td>\n",
       "      <td>639</td>\n",
       "    </tr>\n",
       "    <tr>\n",
       "      <th>90</th>\n",
       "      <td>0.9</td>\n",
       "      <td>6</td>\n",
       "      <td>2</td>\n",
       "      <td>240</td>\n",
       "      <td>643</td>\n",
       "    </tr>\n",
       "    <tr>\n",
       "      <th>100</th>\n",
       "      <td>1.0</td>\n",
       "      <td>0</td>\n",
       "      <td>0</td>\n",
       "      <td>246</td>\n",
       "      <td>645</td>\n",
       "    </tr>\n",
       "  </tbody>\n",
       "</table>\n",
       "</div>"
      ],
      "text/plain": [
       "     threshold   tp   fp   fn   tn\n",
       "0          0.0  246  645    0    0\n",
       "10         0.1  235  445   11  200\n",
       "20         0.2  216  278   30  367\n",
       "30         0.3  187  172   59  473\n",
       "40         0.4  148  108   98  537\n",
       "50         0.5  112   64  134  581\n",
       "60         0.6   78   38  168  607\n",
       "70         0.7   43   15  203  630\n",
       "80         0.8   22    6  224  639\n",
       "90         0.9    6    2  240  643\n",
       "100        1.0    0    0  246  645"
      ]
     },
     "execution_count": 34,
     "metadata": {},
     "output_type": "execute_result"
    }
   ],
   "source": [
    "df_scores[::10]"
   ]
  },
  {
   "cell_type": "code",
   "execution_count": 35,
   "id": "8a6dfa79",
   "metadata": {},
   "outputs": [],
   "source": [
    "df_scores['p'] = df_scores.tp / (df_scores.tp + df_scores.fp)\n",
    "df_scores['r'] = df_scores.tp / (df_scores.tp + df_scores.fn)"
   ]
  },
  {
   "cell_type": "code",
   "execution_count": 38,
   "id": "7aad21ee",
   "metadata": {},
   "outputs": [
    {
     "data": {
      "image/png": "[encoded data removed]",
      "text/plain": [
       "<Figure size 432x288 with 1 Axes>"
      ]
     },
     "metadata": {
      "needs_background": "light"
     },
     "output_type": "display_data"
    }
   ],
   "source": [
    "plt.plot(df_scores.threshold, df_scores.p, label='precision')\n",
    "plt.plot(df_scores.threshold, df_scores.r, label='recall')\n",
    "\n",
    "plt.vlines(0.4, 0, 1, color='grey', linestyle='--', alpha=0.5)\n",
    "\n",
    "plt.legend()\n",
    "plt.show()"
   ]
  },
  {
   "cell_type": "markdown",
   "id": "68cf81ad",
   "metadata": {},
   "source": [
    "At which threshold precision and recall curves intersect? --> 0.4"
   ]
  },
  {
   "cell_type": "markdown",
   "id": "a8aed9e2",
   "metadata": {},
   "source": [
    "### Question 4"
   ]
  },
  {
   "cell_type": "markdown",
   "id": "510d37ca",
   "metadata": {},
   "source": [
    "Precision and recall are conflicting - when one grows, the other goes down. That's why they are often combined into the F1 score - a metrics that takes into account both\n",
    "\n",
    "This is the formula for computing F1:\n",
    "\n",
    "F1 = 2 . ((P . R) / (P + R))\n",
    "\n",
    "Where P is precision and R is recall.\n",
    "\n",
    "Let's compute F1 for all thresholds from 0.0 to 1.0 with increment 0.01"
   ]
  },
  {
   "cell_type": "code",
   "execution_count": 39,
   "id": "1eb6276f",
   "metadata": {},
   "outputs": [],
   "source": [
    "df_scores['f1'] = 2 * df_scores.p * df_scores.r / (df_scores.p + df_scores.r)"
   ]
  },
  {
   "cell_type": "code",
   "execution_count": 40,
   "id": "08b5916f",
   "metadata": {},
   "outputs": [
    {
     "data": {
      "image/png": "[encoded data removed]",
      "text/plain": [
       "<Figure size 720x360 with 1 Axes>"
      ]
     },
     "metadata": {
      "needs_background": "light"
     },
     "output_type": "display_data"
    }
   ],
   "source": [
    "plt.figure(figsize=(10, 5))\n",
    "\n",
    "plt.plot(df_scores.threshold, df_scores.f1)\n",
    "plt.vlines(0.3, 0, 0.7, color='grey', linestyle='--', alpha=0.5)\n",
    "\n",
    "plt.xticks(np.linspace(0, 1, 11))\n",
    "plt.show()"
   ]
  },
  {
   "cell_type": "markdown",
   "id": "7006c513",
   "metadata": {},
   "source": [
    "At which threshold F1 is maximal? --> 0.3"
   ]
  },
  {
   "cell_type": "markdown",
   "id": "b721b193",
   "metadata": {},
   "source": [
    "### Question 5"
   ]
  },
  {
   "cell_type": "markdown",
   "id": "e2b8d31f",
   "metadata": {},
   "source": [
    "Use the `KFold` class from Scikit-Learn to evaluate our model on 5 different folds:\n",
    "\n",
    "> KFold(n_splits=5, shuffle=True, random_state=1)\n",
    "\n",
    "* Iterate over different folds of `df_full_train`\n",
    "* Split the data into train and validation\n",
    "* Train the model on train with these parameters: `LogisticRegression(solver='liblinear', C=1.0, max_iter=1000)`\n",
    "* Use AUC to evaluate the model on validation"
   ]
  },
  {
   "cell_type": "code",
   "execution_count": 42,
   "id": "5cdb2ecd",
   "metadata": {},
   "outputs": [],
   "source": [
    "def train(df_train, y_train, C=1.0):\n",
    "    dicts = df_train[columns].to_dict(orient='records')\n",
    "\n",
    "    dv = DictVectorizer(sparse=False)\n",
    "    X_train = dv.fit_transform(dicts)\n",
    "\n",
    "    model = LogisticRegression(solver='liblinear', C=C)\n",
    "    model.fit(X_train, y_train)\n",
    "\n",
    "    return dv, model\n",
    "\n",
    "def predict(df, dv, model):\n",
    "    dicts = df[columns].to_dict(orient='records')\n",
    "\n",
    "    X = dv.transform(dicts)\n",
    "    y_pred = model.predict_proba(X)[:, 1]\n",
    "\n",
    "    return y_pred"
   ]
  },
  {
   "cell_type": "code",
   "execution_count": 43,
   "id": "6eb398f4",
   "metadata": {},
   "outputs": [
    {
     "name": "stdout",
     "output_type": "stream",
     "text": [
      "0.813 +- 0.015\n"
     ]
    }
   ],
   "source": [
    "scores = []\n",
    "\n",
    "kfold = KFold(n_splits=5, shuffle=True, random_state=1)\n",
    "\n",
    "for train_idx, val_idx in kfold.split(df_full_train):\n",
    "    df_train = df_full_train.iloc[train_idx]\n",
    "    df_val = df_full_train.iloc[val_idx]\n",
    "\n",
    "    y_train = df_train.default.values\n",
    "    y_val = df_val.default.values\n",
    "\n",
    "    dv, model = train(df_train, y_train, C=1.0)\n",
    "    y_pred = predict(df_val, dv, model)\n",
    "\n",
    "    auc = roc_auc_score(y_val, y_pred)\n",
    "    scores.append(auc)\n",
    "\n",
    "print('%.3f +- %.3f' % (np.mean(scores), np.std(scores)))"
   ]
  },
  {
   "cell_type": "markdown",
   "id": "246a60bd",
   "metadata": {},
   "source": [
    "How large is standard devidation of the scores across different folds? --> 0.015"
   ]
  },
  {
   "cell_type": "markdown",
   "id": "c6c91d46",
   "metadata": {},
   "source": [
    "### Question 6"
   ]
  },
  {
   "cell_type": "markdown",
   "id": "b4c92f2b",
   "metadata": {},
   "source": [
    "Now let's use 5-Fold cross-validation to find the best parameter C\n",
    "\n",
    "* Iterate over the following C values: `[0.01, 0.1, 1, 10]`\n",
    "* Initialize KFold with the same parameters as previously\n",
    "* se these parametes for the model: `LogisticRegression(solver='liblinear', C=C, max_iter=1000)`\n",
    "* Compute the mean score as well as the std (round the mean and std to 3 decimal digits)"
   ]
  },
  {
   "cell_type": "code",
   "execution_count": 44,
   "id": "15295be8",
   "metadata": {},
   "outputs": [
    {
     "name": "stdout",
     "output_type": "stream",
     "text": [
      "C=0.01, 0.809 +- 0.013\n",
      "C= 0.1, 0.813 +- 0.014\n",
      "C=   1, 0.813 +- 0.015\n",
      "C=  10, 0.814 +- 0.015\n"
     ]
    }
   ],
   "source": [
    "kfold = KFold(n_splits=5, shuffle=True, random_state=1)\n",
    "\n",
    "for C in [0.01, 0.1, 1, 10]:\n",
    "    scores = []\n",
    "\n",
    "    for train_idx, val_idx in kfold.split(df_full_train):\n",
    "        df_train = df_full_train.iloc[train_idx]\n",
    "        df_val = df_full_train.iloc[val_idx]\n",
    "\n",
    "        y_train = df_train.default.values\n",
    "        y_val = df_val.default.values\n",
    "\n",
    "        dv, model = train(df_train, y_train, C=C)\n",
    "        y_pred = predict(df_val, dv, model)\n",
    "\n",
    "        auc = roc_auc_score(y_val, y_pred)\n",
    "        scores.append(auc)\n",
    "\n",
    "    print('C=%4s, %.3f +- %.3f' % (C, np.mean(scores), np.std(scores)))"
   ]
  },
  {
   "cell_type": "markdown",
   "id": "5d5017fc",
   "metadata": {},
   "source": [
    "Which C leads to the best mean score? --> 1"
   ]
  }
 ],
 "metadata": {
  "kernelspec": {
   "display_name": "Python 3",
   "language": "python",
   "name": "python3"
  },
  "language_info": {
   "codemirror_mode": {
    "name": "ipython",
    "version": 3
   },
   "file_extension": ".py",
   "mimetype": "text/x-python",
   "name": "python",
   "nbconvert_exporter": "python",
   "pygments_lexer": "ipython3",
   "version": "3.8.8"
  }
 },
 "nbformat": 4,
 "nbformat_minor": 5
}
