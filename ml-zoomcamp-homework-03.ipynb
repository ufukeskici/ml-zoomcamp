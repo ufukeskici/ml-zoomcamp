{
 "cells": [
  {
   "cell_type": "markdown",
   "id": "53420490",
   "metadata": {},
   "source": [
    "### Dataset"
   ]
  },
  {
   "cell_type": "markdown",
   "id": "13f50064",
   "metadata": {},
   "source": [
    "In this homework, we will continue the New York City Airbnb Open Data. You can take it from\n",
    "[Kaggle](https://www.kaggle.com/dgomonov/new-york-city-airbnb-open-data?select=AB_NYC_2019.csv)\n",
    "or download from [here](https://raw.githubusercontent.com/alexeygrigorev/datasets/master/AB_NYC_2019.csv)\n",
    "if you don't want to sign up to Kaggle.\n",
    "\n",
    "We'll keep working with the `'price'` variable, and we'll transform it to a classification task."
   ]
  },
  {
   "cell_type": "code",
   "execution_count": 124,
   "id": "b0c6a2a9",
   "metadata": {},
   "outputs": [],
   "source": [
    "import pandas as pd\n",
    "import numpy as np\n",
    "\n",
    "from sklearn.model_selection import train_test_split\n",
    "from sklearn.metrics import mutual_info_score\n",
    "from sklearn.feature_extraction import DictVectorizer\n",
    "from sklearn.linear_model import LogisticRegression\n",
    "from sklearn.metrics import accuracy_score\n",
    "from sklearn.linear_model import Ridge\n",
    "from sklearn.metrics import mean_squared_error\n",
    "\n",
    "import warnings\n",
    "warnings.filterwarnings(\"ignore\")"
   ]
  },
  {
   "cell_type": "code",
   "execution_count": 3,
   "id": "efc414e8",
   "metadata": {},
   "outputs": [],
   "source": [
    "# Load the data\n",
    "\n",
    "data_url ='https://raw.githubusercontent.com/ufukeskici/datasets/main/nyc_airbnb/AB_NYC_2019.csv'\n",
    "df = pd.read_csv(data_url, sep=',')"
   ]
  },
  {
   "cell_type": "markdown",
   "id": "631b2741",
   "metadata": {},
   "source": [
    "### Features"
   ]
  },
  {
   "cell_type": "markdown",
   "id": "af9184dc",
   "metadata": {},
   "source": [
    "For the rest of the homework, you'll need to use the features from the previous homework with additional two `'neighbourhood_group'` and `'room_type'`. So the whole feature set will be set as follows:\n",
    "\n",
    "* `'neighbourhood_group'`,\n",
    "* `'room_type'`,\n",
    "* `'latitude'`,\n",
    "* `'longitude'`,\n",
    "* `'price'`,\n",
    "* `'minimum_nights'`,\n",
    "* `'number_of_reviews'`,\n",
    "* `'reviews_per_month'`,\n",
    "* `'calculated_host_listings_count'`,\n",
    "* `'availability_365'`"
   ]
  },
  {
   "cell_type": "code",
   "execution_count": 4,
   "id": "e24c70be",
   "metadata": {},
   "outputs": [],
   "source": [
    "df0 = df[[\n",
    "    'neighbourhood_group',\n",
    "    'room_type',\n",
    "    'latitude',\n",
    "    'longitude',\n",
    "    'price',\n",
    "    'minimum_nights',\n",
    "    'number_of_reviews',\n",
    "    'reviews_per_month',\n",
    "    'calculated_host_listings_count',\n",
    "    'availability_365']]"
   ]
  },
  {
   "cell_type": "markdown",
   "id": "1bb329bc",
   "metadata": {},
   "source": [
    "Select only them and fill in the missing values with 0."
   ]
  },
  {
   "cell_type": "code",
   "execution_count": 7,
   "id": "2b03f6e4",
   "metadata": {},
   "outputs": [
    {
     "data": {
      "text/plain": [
       "neighbourhood_group                   0\n",
       "room_type                             0\n",
       "latitude                              0\n",
       "longitude                             0\n",
       "price                                 0\n",
       "minimum_nights                        0\n",
       "number_of_reviews                     0\n",
       "reviews_per_month                 10052\n",
       "calculated_host_listings_count        0\n",
       "availability_365                      0\n",
       "dtype: int64"
      ]
     },
     "execution_count": 7,
     "metadata": {},
     "output_type": "execute_result"
    }
   ],
   "source": [
    "# Find the feature with missing values\n",
    "\n",
    "df0.isna().sum()"
   ]
  },
  {
   "cell_type": "code",
   "execution_count": 8,
   "id": "46086c6c",
   "metadata": {},
   "outputs": [],
   "source": [
    "# Fill the in the missin values with 0\n",
    "\n",
    "df0['reviews_per_month']=df0['reviews_per_month'].fillna(0)"
   ]
  },
  {
   "cell_type": "code",
   "execution_count": 9,
   "id": "67b0b18e",
   "metadata": {},
   "outputs": [
    {
     "data": {
      "text/plain": [
       "neighbourhood_group               0\n",
       "room_type                         0\n",
       "latitude                          0\n",
       "longitude                         0\n",
       "price                             0\n",
       "minimum_nights                    0\n",
       "number_of_reviews                 0\n",
       "reviews_per_month                 0\n",
       "calculated_host_listings_count    0\n",
       "availability_365                  0\n",
       "dtype: int64"
      ]
     },
     "execution_count": 9,
     "metadata": {},
     "output_type": "execute_result"
    }
   ],
   "source": [
    "df0.isna().sum()"
   ]
  },
  {
   "cell_type": "markdown",
   "id": "0c0f7317",
   "metadata": {},
   "source": [
    "### Question 1"
   ]
  },
  {
   "cell_type": "markdown",
   "id": "60f48b63",
   "metadata": {},
   "source": [
    "What is the most frequent observation (mode) for the column `'neighbourhood_group'`?"
   ]
  },
  {
   "cell_type": "code",
   "execution_count": 13,
   "id": "0b478e6e",
   "metadata": {},
   "outputs": [
    {
     "data": {
      "text/plain": [
       "Manhattan        0.443011\n",
       "Brooklyn         0.411167\n",
       "Queens           0.115881\n",
       "Bronx            0.022313\n",
       "Staten Island    0.007629\n",
       "Name: neighbourhood_group, dtype: float64"
      ]
     },
     "execution_count": 13,
     "metadata": {},
     "output_type": "execute_result"
    }
   ],
   "source": [
    "df0['neighbourhood_group'].value_counts(normalize=True)"
   ]
  },
  {
   "cell_type": "markdown",
   "id": "a4cc1486",
   "metadata": {},
   "source": [
    "The most frequent observation (mode) for the column `'neighbourhood_group'` is **Manhattan**."
   ]
  },
  {
   "cell_type": "markdown",
   "id": "350968b4",
   "metadata": {},
   "source": [
    "### Split the data"
   ]
  },
  {
   "cell_type": "markdown",
   "id": "5d6454a9",
   "metadata": {},
   "source": [
    "* Split your data in train/val/test sets, with 60%/20%/20% distribution.\n",
    "* Use Scikit-Learn for that (the `train_test_split` function) and set the seed to 42.\n",
    "* Make sure that the target value ('price') is not in your dataframe."
   ]
  },
  {
   "cell_type": "code",
   "execution_count": 32,
   "id": "99a0637d",
   "metadata": {},
   "outputs": [],
   "source": [
    "df1 = df0.drop('price', axis=1)"
   ]
  },
  {
   "cell_type": "code",
   "execution_count": 33,
   "id": "bf77d2dd",
   "metadata": {},
   "outputs": [],
   "source": [
    "df1_train_full, df1_test = train_test_split(df1, test_size=0.20, random_state=42)"
   ]
  },
  {
   "cell_type": "code",
   "execution_count": 34,
   "id": "c439e710",
   "metadata": {},
   "outputs": [],
   "source": [
    "df1_train, df1_val = train_test_split(df1_train_full, test_size=0.25, random_state=42)"
   ]
  },
  {
   "cell_type": "code",
   "execution_count": 35,
   "id": "2820c7ed",
   "metadata": {},
   "outputs": [],
   "source": [
    "df1_train = df1_train.reset_index(drop=True)\n",
    "df1_val = df1_val.reset_index(drop=True)\n",
    "df1_test = df1_test.reset_index(drop=True)"
   ]
  },
  {
   "cell_type": "markdown",
   "id": "41e166bf",
   "metadata": {},
   "source": [
    "### Question 2"
   ]
  },
  {
   "cell_type": "markdown",
   "id": "5f4b26d8",
   "metadata": {},
   "source": [
    "* Create the [correlation matrix](https://www.google.com/search?q=correlation+matrix) for the numerical features of your train dataset.\n",
    "   * In a correlation matrix, you compute the correlation coefficient between every pair of features in the dataset.\n",
    "* What are the two features that have the biggest correlation in this dataset?"
   ]
  },
  {
   "cell_type": "code",
   "execution_count": 38,
   "id": "84cdfb1f",
   "metadata": {},
   "outputs": [
    {
     "data": {
      "text/plain": [
       "neighbourhood_group                object\n",
       "room_type                          object\n",
       "latitude                          float64\n",
       "longitude                         float64\n",
       "minimum_nights                      int64\n",
       "number_of_reviews                   int64\n",
       "reviews_per_month                 float64\n",
       "calculated_host_listings_count      int64\n",
       "availability_365                    int64\n",
       "dtype: object"
      ]
     },
     "execution_count": 38,
     "metadata": {},
     "output_type": "execute_result"
    }
   ],
   "source": [
    "df1_train_full.dtypes"
   ]
  },
  {
   "cell_type": "code",
   "execution_count": 39,
   "id": "113e7363",
   "metadata": {},
   "outputs": [],
   "source": [
    "df1_train_full_numeric = df1_train_full.drop([\"neighbourhood_group\",\"room_type\"], axis=1)"
   ]
  },
  {
   "cell_type": "code",
   "execution_count": 40,
   "id": "ae9702ca",
   "metadata": {},
   "outputs": [
    {
     "data": {
      "text/html": [
       "<div>\n",
       "<style scoped>\n",
       "    .dataframe tbody tr th:only-of-type {\n",
       "        vertical-align: middle;\n",
       "    }\n",
       "\n",
       "    .dataframe tbody tr th {\n",
       "        vertical-align: top;\n",
       "    }\n",
       "\n",
       "    .dataframe thead th {\n",
       "        text-align: right;\n",
       "    }\n",
       "</style>\n",
       "<table border=\"1\" class=\"dataframe\">\n",
       "  <thead>\n",
       "    <tr style=\"text-align: right;\">\n",
       "      <th></th>\n",
       "      <th>latitude</th>\n",
       "      <th>longitude</th>\n",
       "      <th>minimum_nights</th>\n",
       "      <th>number_of_reviews</th>\n",
       "      <th>reviews_per_month</th>\n",
       "      <th>calculated_host_listings_count</th>\n",
       "      <th>availability_365</th>\n",
       "    </tr>\n",
       "  </thead>\n",
       "  <tbody>\n",
       "    <tr>\n",
       "      <th>latitude</th>\n",
       "      <td>1.000000</td>\n",
       "      <td>0.080704</td>\n",
       "      <td>0.025497</td>\n",
       "      <td>-0.011836</td>\n",
       "      <td>-0.013809</td>\n",
       "      <td>0.020299</td>\n",
       "      <td>-0.008341</td>\n",
       "    </tr>\n",
       "    <tr>\n",
       "      <th>longitude</th>\n",
       "      <td>0.080704</td>\n",
       "      <td>1.000000</td>\n",
       "      <td>-0.063498</td>\n",
       "      <td>0.057570</td>\n",
       "      <td>0.134401</td>\n",
       "      <td>-0.115289</td>\n",
       "      <td>0.082994</td>\n",
       "    </tr>\n",
       "    <tr>\n",
       "      <th>minimum_nights</th>\n",
       "      <td>0.025497</td>\n",
       "      <td>-0.063498</td>\n",
       "      <td>1.000000</td>\n",
       "      <td>-0.077860</td>\n",
       "      <td>-0.121687</td>\n",
       "      <td>0.121748</td>\n",
       "      <td>0.140596</td>\n",
       "    </tr>\n",
       "    <tr>\n",
       "      <th>number_of_reviews</th>\n",
       "      <td>-0.011836</td>\n",
       "      <td>0.057570</td>\n",
       "      <td>-0.077860</td>\n",
       "      <td>1.000000</td>\n",
       "      <td>0.584935</td>\n",
       "      <td>-0.072603</td>\n",
       "      <td>0.175428</td>\n",
       "    </tr>\n",
       "    <tr>\n",
       "      <th>reviews_per_month</th>\n",
       "      <td>-0.013809</td>\n",
       "      <td>0.134401</td>\n",
       "      <td>-0.121687</td>\n",
       "      <td>0.584935</td>\n",
       "      <td>1.000000</td>\n",
       "      <td>-0.047368</td>\n",
       "      <td>0.165565</td>\n",
       "    </tr>\n",
       "    <tr>\n",
       "      <th>calculated_host_listings_count</th>\n",
       "      <td>0.020299</td>\n",
       "      <td>-0.115289</td>\n",
       "      <td>0.121748</td>\n",
       "      <td>-0.072603</td>\n",
       "      <td>-0.047368</td>\n",
       "      <td>1.000000</td>\n",
       "      <td>0.223328</td>\n",
       "    </tr>\n",
       "    <tr>\n",
       "      <th>availability_365</th>\n",
       "      <td>-0.008341</td>\n",
       "      <td>0.082994</td>\n",
       "      <td>0.140596</td>\n",
       "      <td>0.175428</td>\n",
       "      <td>0.165565</td>\n",
       "      <td>0.223328</td>\n",
       "      <td>1.000000</td>\n",
       "    </tr>\n",
       "  </tbody>\n",
       "</table>\n",
       "</div>"
      ],
      "text/plain": [
       "                                latitude  longitude  minimum_nights  \\\n",
       "latitude                        1.000000   0.080704        0.025497   \n",
       "longitude                       0.080704   1.000000       -0.063498   \n",
       "minimum_nights                  0.025497  -0.063498        1.000000   \n",
       "number_of_reviews              -0.011836   0.057570       -0.077860   \n",
       "reviews_per_month              -0.013809   0.134401       -0.121687   \n",
       "calculated_host_listings_count  0.020299  -0.115289        0.121748   \n",
       "availability_365               -0.008341   0.082994        0.140596   \n",
       "\n",
       "                                number_of_reviews  reviews_per_month  \\\n",
       "latitude                                -0.011836          -0.013809   \n",
       "longitude                                0.057570           0.134401   \n",
       "minimum_nights                          -0.077860          -0.121687   \n",
       "number_of_reviews                        1.000000           0.584935   \n",
       "reviews_per_month                        0.584935           1.000000   \n",
       "calculated_host_listings_count          -0.072603          -0.047368   \n",
       "availability_365                         0.175428           0.165565   \n",
       "\n",
       "                                calculated_host_listings_count  \\\n",
       "latitude                                              0.020299   \n",
       "longitude                                            -0.115289   \n",
       "minimum_nights                                        0.121748   \n",
       "number_of_reviews                                    -0.072603   \n",
       "reviews_per_month                                    -0.047368   \n",
       "calculated_host_listings_count                        1.000000   \n",
       "availability_365                                      0.223328   \n",
       "\n",
       "                                availability_365  \n",
       "latitude                               -0.008341  \n",
       "longitude                               0.082994  \n",
       "minimum_nights                          0.140596  \n",
       "number_of_reviews                       0.175428  \n",
       "reviews_per_month                       0.165565  \n",
       "calculated_host_listings_count          0.223328  \n",
       "availability_365                        1.000000  "
      ]
     },
     "execution_count": 40,
     "metadata": {},
     "output_type": "execute_result"
    }
   ],
   "source": [
    "df1_train_full_numeric.corr()"
   ]
  },
  {
   "cell_type": "code",
   "execution_count": 56,
   "id": "c4ca0c96",
   "metadata": {},
   "outputs": [
    {
     "data": {
      "image/png": "[encoded data removed]",
      "text/plain": [
       "<Figure size 720x720 with 2 Axes>"
      ]
     },
     "metadata": {
      "needs_background": "light"
     },
     "output_type": "display_data"
    }
   ],
   "source": [
    "plt.figure(figsize=(10,10))  \n",
    "sns.heatmap(df1_train_full_numeric.corr(),annot=True,linewidths=.5, cmap=\"Greens\")\n",
    "plt.title('Heatmap showing correlations between numerical data')\n",
    "plt.show()"
   ]
  },
  {
   "cell_type": "code",
   "execution_count": 43,
   "id": "bc79ad0c",
   "metadata": {},
   "outputs": [
    {
     "data": {
      "text/plain": [
       "latitude                        latitude                          1.000000\n",
       "longitude                       longitude                         1.000000\n",
       "calculated_host_listings_count  calculated_host_listings_count    1.000000\n",
       "reviews_per_month               reviews_per_month                 1.000000\n",
       "minimum_nights                  minimum_nights                    1.000000\n",
       "number_of_reviews               number_of_reviews                 1.000000\n",
       "availability_365                availability_365                  1.000000\n",
       "number_of_reviews               reviews_per_month                 0.584935\n",
       "reviews_per_month               number_of_reviews                 0.584935\n",
       "availability_365                calculated_host_listings_count    0.223328\n",
       "calculated_host_listings_count  availability_365                  0.223328\n",
       "availability_365                number_of_reviews                 0.175428\n",
       "number_of_reviews               availability_365                  0.175428\n",
       "availability_365                reviews_per_month                 0.165565\n",
       "reviews_per_month               availability_365                  0.165565\n",
       "availability_365                minimum_nights                    0.140596\n",
       "minimum_nights                  availability_365                  0.140596\n",
       "longitude                       reviews_per_month                 0.134401\n",
       "reviews_per_month               longitude                         0.134401\n",
       "calculated_host_listings_count  minimum_nights                    0.121748\n",
       "minimum_nights                  calculated_host_listings_count    0.121748\n",
       "availability_365                longitude                         0.082994\n",
       "longitude                       availability_365                  0.082994\n",
       "                                latitude                          0.080704\n",
       "latitude                        longitude                         0.080704\n",
       "longitude                       number_of_reviews                 0.057570\n",
       "number_of_reviews               longitude                         0.057570\n",
       "latitude                        minimum_nights                    0.025497\n",
       "minimum_nights                  latitude                          0.025497\n",
       "calculated_host_listings_count  latitude                          0.020299\n",
       "latitude                        calculated_host_listings_count    0.020299\n",
       "                                availability_365                 -0.008341\n",
       "availability_365                latitude                         -0.008341\n",
       "number_of_reviews               latitude                         -0.011836\n",
       "latitude                        number_of_reviews                -0.011836\n",
       "                                reviews_per_month                -0.013809\n",
       "reviews_per_month               latitude                         -0.013809\n",
       "calculated_host_listings_count  reviews_per_month                -0.047368\n",
       "reviews_per_month               calculated_host_listings_count   -0.047368\n",
       "minimum_nights                  longitude                        -0.063498\n",
       "longitude                       minimum_nights                   -0.063498\n",
       "calculated_host_listings_count  number_of_reviews                -0.072603\n",
       "number_of_reviews               calculated_host_listings_count   -0.072603\n",
       "                                minimum_nights                   -0.077860\n",
       "minimum_nights                  number_of_reviews                -0.077860\n",
       "longitude                       calculated_host_listings_count   -0.115289\n",
       "calculated_host_listings_count  longitude                        -0.115289\n",
       "minimum_nights                  reviews_per_month                -0.121687\n",
       "reviews_per_month               minimum_nights                   -0.121687\n",
       "dtype: float64"
      ]
     },
     "execution_count": 43,
     "metadata": {},
     "output_type": "execute_result"
    }
   ],
   "source": [
    "df1_train_full_numeric.corr().unstack().sort_values(ascending = False)"
   ]
  },
  {
   "cell_type": "markdown",
   "id": "78df3069",
   "metadata": {},
   "source": [
    "The two features that have the biggest correlation in this dataset are `number_of_reviews` and `reviews_per_month`."
   ]
  },
  {
   "cell_type": "markdown",
   "id": "fd45bfd2",
   "metadata": {},
   "source": [
    "### Make price binary"
   ]
  },
  {
   "cell_type": "markdown",
   "id": "58434fb4",
   "metadata": {},
   "source": [
    "* We need to turn the price variable from numeric into binary.\n",
    "* Let's create a variable `above_average` which is `1` if the price is above (or equal to) `152`."
   ]
  },
  {
   "cell_type": "code",
   "execution_count": 44,
   "id": "eb7ea169",
   "metadata": {},
   "outputs": [],
   "source": [
    "df0['above_average'] = np.where(df0['price']>=152, 1, 0)"
   ]
  },
  {
   "cell_type": "code",
   "execution_count": 45,
   "id": "0bb30c70",
   "metadata": {},
   "outputs": [
    {
     "data": {
      "text/plain": [
       "0    0.695204\n",
       "1    0.304796\n",
       "Name: above_average, dtype: float64"
      ]
     },
     "execution_count": 45,
     "metadata": {},
     "output_type": "execute_result"
    }
   ],
   "source": [
    "df0['above_average'].value_counts(normalize=True)"
   ]
  },
  {
   "cell_type": "markdown",
   "id": "e9dccaf3",
   "metadata": {},
   "source": [
    "### Question 3"
   ]
  },
  {
   "cell_type": "markdown",
   "id": "44d15d32",
   "metadata": {},
   "source": [
    "* Calculate the mutual information score with the (binarized) price for the two categorical variables that we have. Use the training set only.\n",
    "* Which of these two variables has bigger score?\n",
    "* Round it to 2 decimal digits using `round(score, 2)`"
   ]
  },
  {
   "cell_type": "code",
   "execution_count": 49,
   "id": "b71f0075",
   "metadata": {},
   "outputs": [],
   "source": [
    "cat_var = ['neighbourhood_group', 'room_type']"
   ]
  },
  {
   "cell_type": "code",
   "execution_count": 55,
   "id": "81905b4a",
   "metadata": {},
   "outputs": [
    {
     "name": "stdout",
     "output_type": "stream",
     "text": [
      "                       MI\n",
      "room_type            0.14\n",
      "neighbourhood_group  0.05\n"
     ]
    }
   ],
   "source": [
    "def calculate_mi(series):\n",
    "    return mutual_info_score(series, df0.above_average)\n",
    "\n",
    "df_mi = df0[cat_var].apply(calculate_mi)\n",
    "df_mi = df_mi.sort_values(ascending=False).to_frame(name='MI')\n",
    "print(round(df_mi,2))"
   ]
  },
  {
   "cell_type": "markdown",
   "id": "c6244f04",
   "metadata": {},
   "source": [
    "`room_type` has bigger score."
   ]
  },
  {
   "cell_type": "markdown",
   "id": "772ca846",
   "metadata": {},
   "source": [
    "### Question 4"
   ]
  },
  {
   "cell_type": "markdown",
   "id": "edbd0f1f",
   "metadata": {},
   "source": [
    "* Now let's train a logistic regression\n",
    "* Remember that we have two categorical variables in the data. Include them using one-hot encoding.\n",
    "* Fit the model on the training dataset.\n",
    "   * To make sure the results are reproducible across different versions of Scikit-Learn, fit the model with these parameters:\n",
    "   * `model = LogisticRegression(solver='lbfgs', C=1.0, random_state=42)`\n",
    "* Calculate the accuracy on the validation dataset and round it to 2 decimal digits."
   ]
  },
  {
   "cell_type": "code",
   "execution_count": 64,
   "id": "a803430a",
   "metadata": {},
   "outputs": [],
   "source": [
    "num_var = ['latitude', \n",
    "           'longitude',\n",
    "           'minimum_nights',\n",
    "           'number_of_reviews',\n",
    "           'reviews_per_month',\n",
    "           'calculated_host_listings_count',\n",
    "           'availability_365']"
   ]
  },
  {
   "cell_type": "code",
   "execution_count": 65,
   "id": "6df2cea7",
   "metadata": {},
   "outputs": [],
   "source": [
    "df2 = df0.drop('price', axis=1)"
   ]
  },
  {
   "cell_type": "code",
   "execution_count": 66,
   "id": "a2df3d3c",
   "metadata": {},
   "outputs": [],
   "source": [
    "df2_train_full, df2_test = train_test_split(df2, test_size=0.20, random_state=42)"
   ]
  },
  {
   "cell_type": "code",
   "execution_count": 67,
   "id": "7de634e7",
   "metadata": {},
   "outputs": [],
   "source": [
    "df2_train, df2_val = train_test_split(df2_train_full, test_size=0.25, random_state=42)"
   ]
  },
  {
   "cell_type": "code",
   "execution_count": 70,
   "id": "0ff25f33",
   "metadata": {},
   "outputs": [],
   "source": [
    "df2_train = df2_train.reset_index(drop=True)\n",
    "df2_val = df2_val.reset_index(drop=True)\n",
    "df2_test = df2_test.reset_index(drop=True)"
   ]
  },
  {
   "cell_type": "code",
   "execution_count": 71,
   "id": "b5e849ab",
   "metadata": {},
   "outputs": [],
   "source": [
    "y2_train = df2_train.above_average.values\n",
    "y2_val = df2_val.above_average.values\n",
    "y2_test = df2_test.above_average.values"
   ]
  },
  {
   "cell_type": "code",
   "execution_count": 72,
   "id": "9ed2cceb",
   "metadata": {},
   "outputs": [],
   "source": [
    "train_dict = df2_train[cat_var + num_var].to_dict(orient='records')\n",
    "\n",
    "dv = DictVectorizer(sparse=False)\n",
    "dv.fit(train_dict)\n",
    "\n",
    "X_train = dv.transform(train_dict)"
   ]
  },
  {
   "cell_type": "code",
   "execution_count": 73,
   "id": "da70083b",
   "metadata": {},
   "outputs": [
    {
     "data": {
      "text/plain": [
       "LogisticRegression(random_state=42)"
      ]
     },
     "execution_count": 73,
     "metadata": {},
     "output_type": "execute_result"
    }
   ],
   "source": [
    "model = LogisticRegression(solver='lbfgs', C=1.0, random_state=42)\n",
    "model.fit(X_train, y2_train)"
   ]
  },
  {
   "cell_type": "code",
   "execution_count": 75,
   "id": "bb417abb",
   "metadata": {},
   "outputs": [
    {
     "name": "stdout",
     "output_type": "stream",
     "text": [
      "0.79\n"
     ]
    }
   ],
   "source": [
    "val_dict = df2_val[cat_var + num_var].to_dict(orient='records')\n",
    "X_val = dv.transform(val_dict)\n",
    "\n",
    "y_pred = model.predict(X_val)\n",
    "\n",
    "accuracy = np.round(accuracy_score(y2_val, y_pred),2)\n",
    "print(accuracy)"
   ]
  },
  {
   "cell_type": "markdown",
   "id": "72cc011f",
   "metadata": {},
   "source": [
    "### Question 5"
   ]
  },
  {
   "cell_type": "markdown",
   "id": "e64a4ffc",
   "metadata": {},
   "source": [
    "* We have 9 features: 7 numerical features and 2 categorical.\n",
    "* Let's find the least useful one using the *feature elimination* technique.\n",
    "* Train a model with all these features (using the same parameters as in Q4).\n",
    "* Now exclude each feature from this set and train a model without it. Record the accuracy for each model.\n",
    "* For each feature, calculate the difference between the original accuracy and the accuracy without the feature. \n",
    "* Which of following feature has the smallest difference? \n",
    "   * `neighbourhood_group`\n",
    "   * `room_type` \n",
    "   * `number_of_reviews`\n",
    "   * `reviews_per_month`\n",
    "\n",
    "> **note**: the difference doesn't have to be positive"
   ]
  },
  {
   "cell_type": "code",
   "execution_count": 79,
   "id": "f923006b",
   "metadata": {},
   "outputs": [],
   "source": [
    "features = cat_var + num_var"
   ]
  },
  {
   "cell_type": "code",
   "execution_count": 81,
   "id": "b8302860",
   "metadata": {},
   "outputs": [
    {
     "name": "stdout",
     "output_type": "stream",
     "text": [
      "neighbourhood_group 0.03900296553839866 0.7509970344616014\n",
      "room_type 0.07387360670825238 0.7161263932917477\n",
      "latitude 0.003621024644646753 0.7863789753553533\n",
      "longitude 0.0032119848655282057 0.7867880151344718\n",
      "minimum_nights 0.004439104202883737 0.7855608957971163\n",
      "number_of_reviews 0.003109724920748569 0.7868902750792515\n",
      "reviews_per_month 0.0043368442581041 0.7856631557418959\n",
      "calculated_host_listings_count 0.0033142448103078426 0.7866857551896922\n",
      "availability_365 0.008427242049289352 0.7815727579507107\n"
     ]
    }
   ],
   "source": [
    "orig_score = accuracy\n",
    "\n",
    "for c in features:\n",
    "    subset = features.copy()\n",
    "    subset.remove(c)\n",
    "    \n",
    "    train_dict = df2_train[subset].to_dict(orient='records')\n",
    "\n",
    "    dv = DictVectorizer(sparse=False)\n",
    "    dv.fit(train_dict)\n",
    "\n",
    "    X_train = dv.transform(train_dict)\n",
    "\n",
    "    model = LogisticRegression(solver='lbfgs', C=1.0, random_state=42)\n",
    "    model.fit(X_train, y2_train)\n",
    "\n",
    "    val_dict = df2_val[subset].to_dict(orient='records')\n",
    "    X_val = dv.transform(val_dict)\n",
    "\n",
    "    y_pred = model.predict(X_val)\n",
    "\n",
    "    score = accuracy_score(y2_val, y_pred)\n",
    "    print(c, orig_score - score, score)"
   ]
  },
  {
   "cell_type": "markdown",
   "id": "5979d78b",
   "metadata": {},
   "source": [
    "`number_of_reviews` has the smallest difference."
   ]
  },
  {
   "cell_type": "markdown",
   "id": "0afab23b",
   "metadata": {},
   "source": [
    "## Question 6"
   ]
  },
  {
   "cell_type": "markdown",
   "id": "116c0a4d",
   "metadata": {},
   "source": [
    "* For this question, we'll see how to use a linear regression model from Scikit-Learn\n",
    "* We'll need to use the original column `'price'`. Apply the logarithmic transformation to this column.\n",
    "* Fit the Ridge regression model on the training data.\n",
    "* This model has a parameter `alpha`. Let's try the following values: `[0, 0.01, 0.1, 1, 10]`\n",
    "* Which of these alphas leads to the best RMSE on the validation set? Round your RMSE scores to 3 decimal digits.\n",
    "\n",
    "If there are multiple options, select the smallest `alpha`."
   ]
  },
  {
   "cell_type": "code",
   "execution_count": 125,
   "id": "d76f3807",
   "metadata": {},
   "outputs": [],
   "source": [
    "df0['price']=np.log1p(df0['price'])"
   ]
  },
  {
   "cell_type": "code",
   "execution_count": 126,
   "id": "54ea71a6",
   "metadata": {},
   "outputs": [],
   "source": [
    "df_train_full, df_test = train_test_split(df0, test_size=0.2, random_state=42)"
   ]
  },
  {
   "cell_type": "code",
   "execution_count": 127,
   "id": "ad0f75e8",
   "metadata": {},
   "outputs": [],
   "source": [
    "df_train, df_val = train_test_split(df_train_full, test_size=0.25, random_state=42)"
   ]
  },
  {
   "cell_type": "code",
   "execution_count": 128,
   "id": "49bdac23",
   "metadata": {},
   "outputs": [],
   "source": [
    "df_train = df_train.reset_index(drop=True)\n",
    "df_val = df_val.reset_index(drop=True)\n",
    "df_test = df_test.reset_index(drop=True)"
   ]
  },
  {
   "cell_type": "code",
   "execution_count": 129,
   "id": "b27c0df4",
   "metadata": {},
   "outputs": [],
   "source": [
    "y_train = df_train.price.values\n",
    "y_val = df_val.price.values\n",
    "y_test = df_test.price.values"
   ]
  },
  {
   "cell_type": "code",
   "execution_count": 130,
   "id": "e9fd6539",
   "metadata": {},
   "outputs": [],
   "source": [
    "del df_train['price']\n",
    "del df_val['price']\n",
    "del df_test['price']"
   ]
  },
  {
   "cell_type": "code",
   "execution_count": 131,
   "id": "c185da76",
   "metadata": {},
   "outputs": [],
   "source": [
    "train_dict = df_train[cat_var + num_var].to_dict(orient='records')"
   ]
  },
  {
   "cell_type": "code",
   "execution_count": 132,
   "id": "79a3684e",
   "metadata": {},
   "outputs": [],
   "source": [
    "dv = DictVectorizer(sparse=False)\n",
    "dv.fit(train_dict)\n",
    "\n",
    "X_train = dv.transform(train_dict)\n",
    "\n",
    "val_dict = df_val[cat_var + num_var].to_dict(orient='records')\n",
    "X_val = dv.transform(val_dict)"
   ]
  },
  {
   "cell_type": "code",
   "execution_count": 134,
   "id": "afcce9de",
   "metadata": {},
   "outputs": [
    {
     "name": "stdout",
     "output_type": "stream",
     "text": [
      "0 0.497\n",
      "0.01 0.497\n",
      "0.1 0.497\n",
      "1 0.497\n",
      "10 0.498\n"
     ]
    }
   ],
   "source": [
    "for a in [0, 0.01, 0.1, 1, 10]:\n",
    "    model = Ridge(alpha=a,random_state=42)\n",
    "    model.fit(X_train, y_train)\n",
    "    y_pred = model.predict(X_val)\n",
    "    score = np.sqrt(mean_squared_error(y_val, y_pred))\n",
    "    print(a, round(score, 3))"
   ]
  },
  {
   "cell_type": "markdown",
   "id": "adaf06fa",
   "metadata": {},
   "source": [
    "Smallest `alpha` is 0."
   ]
  }
 ],
 "metadata": {
  "kernelspec": {
   "display_name": "Python 3",
   "language": "python",
   "name": "python3"
  },
  "language_info": {
   "codemirror_mode": {
    "name": "ipython",
    "version": 3
   },
   "file_extension": ".py",
   "mimetype": "text/x-python",
   "name": "python",
   "nbconvert_exporter": "python",
   "pygments_lexer": "ipython3",
   "version": "3.8.8"
  }
 },
 "nbformat": 4,
 "nbformat_minor": 5
}
